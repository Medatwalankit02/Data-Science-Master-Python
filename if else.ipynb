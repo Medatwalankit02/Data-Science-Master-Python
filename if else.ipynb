{
 "cells": [
  {
   "cell_type": "code",
   "execution_count": 1,
   "id": "fc0a0b0d-e88e-46d6-ac38-0bee805cbd62",
   "metadata": {},
   "outputs": [],
   "source": [
    "## input a Product price in a mall\n",
    "## if product price is >3000 you will get 20% off \n",
    "## if the price of the product is 2999 then \n",
    "## you are eligiable for a special gift \n",
    "## if product price is >=2000 and <=3000 40% discount applied \n",
    "## product price is <1000 and <2000 40% discount applicable \n"
   ]
  },
  {
   "cell_type": "code",
   "execution_count": 15,
   "id": "bab30cc7-b70c-4889-a345-33d96e7e68c8",
   "metadata": {},
   "outputs": [
    {
     "name": "stdin",
     "output_type": "stream",
     "text": [
      "Enter the Product Price 4000\n"
     ]
    },
    {
     "name": "stdout",
     "output_type": "stream",
     "text": [
      "You are eligiable to get a goa trip\n",
      "Price of the Product After discount3200.0\n"
     ]
    }
   ],
   "source": [
    "product_price=int(input(\"Enter the Product Price\"))\n",
    "if product_price>3000:\n",
    "    if product_price==4000:\n",
    "        print (\"You are eligiable to get a goa trip\")\n",
    "    print(\"Price of the Product After discount{}\".format(product_price*0.8))\n",
    "elif product_price>=2000 and product_price<=3000:\n",
    "    ## Nested If condition\n",
    "    if product_price==2999:\n",
    "        print(\"You are eligiable to get a Free Bag and you price is\")\n",
    "    print(\"The Price after discount{}\".format(product_price*0.7))\n",
    "else:\n",
    "    print(\"The price of the product after discount{}\".format(product_price*0.6))"
   ]
  },
  {
   "cell_type": "code",
   "execution_count": 16,
   "id": "019ac853-6498-4dd2-8cb1-f42131f2acd8",
   "metadata": {},
   "outputs": [
    {
     "name": "stdin",
     "output_type": "stream",
     "text": [
      "Enter the number 222\n"
     ]
    },
    {
     "name": "stdout",
     "output_type": "stream",
     "text": [
      "value is less then equal to 999\n"
     ]
    }
   ],
   "source": [
    "##single statement suits \n",
    "val=int(input(\"Enter the number\"))\n",
    "if val<=999:print(\"value is less then equal to 999\")"
   ]
  },
  {
   "cell_type": "code",
   "execution_count": null,
   "id": "23671770-1480-4756-909e-f9ad3f243026",
   "metadata": {},
   "outputs": [],
   "source": []
  }
 ],
 "metadata": {
  "kernelspec": {
   "display_name": "Python 3 (ipykernel)",
   "language": "python",
   "name": "python3"
  },
  "language_info": {
   "codemirror_mode": {
    "name": "ipython",
    "version": 3
   },
   "file_extension": ".py",
   "mimetype": "text/x-python",
   "name": "python",
   "nbconvert_exporter": "python",
   "pygments_lexer": "ipython3",
   "version": "3.10.8"
  }
 },
 "nbformat": 4,
 "nbformat_minor": 5
}
